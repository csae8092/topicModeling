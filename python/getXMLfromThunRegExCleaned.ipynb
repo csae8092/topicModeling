{
 "cells": [
  {
   "cell_type": "code",
   "execution_count": 1,
   "metadata": {
    "collapsed": true
   },
   "outputs": [],
   "source": [
    "import re, sys, urllib.request, time\n",
    "import lxml.etree as ET"
   ]
  },
  {
   "cell_type": "code",
   "execution_count": 2,
   "metadata": {
    "collapsed": true
   },
   "outputs": [],
   "source": [
    "url = 'http://thun-korrespondenz.uibk.ac.at:8080/exist/rest/db/files/thun/xml'"
   ]
  },
  {
   "cell_type": "code",
   "execution_count": 3,
   "metadata": {
    "collapsed": true
   },
   "outputs": [],
   "source": [
    "try:\n",
    "    u = urllib.request.urlopen(url)\n",
    "except:\n",
    "    print('something is wrong with this url')\n",
    "    sys.exit(0)"
   ]
  },
  {
   "cell_type": "code",
   "execution_count": 4,
   "metadata": {
    "collapsed": true
   },
   "outputs": [],
   "source": [
    "dom = ET.parse(u)"
   ]
  },
  {
   "cell_type": "code",
   "execution_count": 5,
   "metadata": {
    "collapsed": true
   },
   "outputs": [],
   "source": [
    "resource = dom.xpath(\"//exist:resource/@name\",\n",
    "                    namespaces={'exist':\n",
    "                               'http://exist.sourceforge.net/NS/exist'})"
   ]
  },
  {
   "cell_type": "code",
   "execution_count": 9,
   "metadata": {
    "collapsed": false
   },
   "outputs": [
    {
     "name": "stdout",
     "output_type": "stream",
     "text": [
      "tomek-an-thun_1854-05-21_A3-XXI-D260.txt\n",
      "thun-an-miklosich_1857-03-10_CA801.txt\n",
      "thun-an-helfert_1854-06-18_CA1421.txt\n",
      "zeitungsausschnitt_o.D._A3-XXI-D123.txt\n",
      "philippsberg-an-thun-friedrich_1851-11-14_A3-XXI-D129a.txt\n",
      "thun-an-schulte_09-29_CA504.txt\n",
      "thun-an-fessler_oD_CA372.txt\n",
      "thun-an-ficker_1860-10-20_CA190.txt\n",
      "karte-oesterreich-finanzkraft-von-hornstein_1851_A3-XXI-D148.txt\n",
      "thun-an-helfert_1854-03-07_CA1420.txt\n",
      "schwarzenberg-an-thun_o.D._A3-XXI-D139.txt\n",
      "thun-an-helfert_1851-03-20_CA1411.txt\n",
      "thun-an-helfert_1851-04-08_CA1413.txt\n",
      "thun-an-helfert_1852-02-08_CA1414.txt\n",
      "thun-an-helfert_1853-08-21_CA1417.txt\n",
      "mozart-an-thun_o.D._A3-XXI-D182.txt\n",
      "thun-an-helfert_1860-02-14_CA1423.txt\n",
      "thun-an-helfert_1860-07-02_CA1424.txt\n",
      "thun-an-helfert_1855-02-12_CA1426.txt\n",
      "thun-an-helfert_1859-02-09_CA1422.txt\n",
      "thun-an-miklosich_02-01_CA799.txt\n",
      "thun-an-exner_oD_CA82.txt\n",
      "thun-an-exner_1852-08-31_CA80.txt\n",
      "thun-an-laube_1858-09-22_CA820.txt\n",
      "jelacic-an-caroline-thun_1850-03-30_A3-XXI-D37.txt\n",
      "auszug-publikation-von-papiu-ilarian_1853-01-04_A3-XXI-D250.txt\n",
      "bemerkungen-zu-gesetzentwurf-ueber-kirchliche-geb%C3%A4ude_1854-05_A3-XXI-D261.txt\n",
      "stellungnahme-clam-handeslrecht_1854-07-07_A3-XXI-D265.txt\n",
      "keller-an-thun_1854-10-15_A3-XXI-D293.txt\n",
      "bernhard-an-thun_1854-09-15_A3-XXI-D283.txt\n",
      "hirtenbrief-von-wierzchleyski_1854-11-08_A3-XXI-D297.txt\n",
      "hirtenbrief-von-haynald_1854-11-22_A3-XXI-D301.txt\n",
      "huebner-an-thun_oD_A3-XXI-D312.txt\n",
      "metternich-an-thun_1855-01-31_A3-XXI-D326.txt\n"
     ]
    }
   ],
   "source": [
    "for file in resource:\n",
    "    fileUrl = url+\"/\"+file\n",
    "    try:\n",
    "        u = urllib.request.urlopen(fileUrl)\n",
    "    except:\n",
    "        print('something is wrong with this url')\n",
    "        sys.exit(0)\n",
    "    text = u.read().decode(u.headers.get_content_charset())\n",
    "    #print(text)\n",
    "    notePattern = re.compile(r'<note.*?</note>', re.DOTALL)\n",
    "    text = re.sub(notePattern, \"\", text)\n",
    "    pattern = re.compile(r'<.*</index>', re.DOTALL)\n",
    "    text = re.sub(pattern,\" \", text)\n",
    "    pattern = re.compile(r\"<.*?>\", re.DOTALL)\n",
    "    text = re.sub(pattern,\" \", text)\n",
    "    text = text.lower()\n",
    "    #print(text)\n",
    "    fileName = re.sub(r'.xml', \".txt\", file)\n",
    "    if len(text) > 1000:\n",
    "        saveName = \"../data/\"+fileName\n",
    "        output = open(saveName, 'w', encoding=\"utf\")\n",
    "        output.write(text)\n",
    "        output.close()\n",
    "    else:\n",
    "        print(fileName)\n",
    "    time.sleep(1)"
   ]
  },
  {
   "cell_type": "code",
   "execution_count": null,
   "metadata": {
    "collapsed": true
   },
   "outputs": [],
   "source": []
  }
 ],
 "metadata": {
  "kernelspec": {
   "display_name": "Python 3",
   "language": "python",
   "name": "python3"
  },
  "language_info": {
   "codemirror_mode": {
    "name": "ipython",
    "version": 3
   },
   "file_extension": ".py",
   "mimetype": "text/x-python",
   "name": "python",
   "nbconvert_exporter": "python",
   "pygments_lexer": "ipython3",
   "version": "3.5.1"
  }
 },
 "nbformat": 4,
 "nbformat_minor": 0
}
